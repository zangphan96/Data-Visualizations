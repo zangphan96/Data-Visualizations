{
 "cells": [
  {
   "cell_type": "code",
   "execution_count": 49,
   "id": "25e2f72c",
   "metadata": {},
   "outputs": [
    {
     "name": "stdout",
     "output_type": "stream",
     "text": [
      "[[-0.61176393  0.          0.        ]\n",
      " [ 0.          0.64836613  0.        ]\n",
      " [ 0.          0.          0.28907312]]\n",
      "[[-0.03080966  0.21942473 -0.39929938]\n",
      " [ 0.21942473  0.22310911  0.44413205]\n",
      " [-0.39929938  0.44413205  0.13337587]]\n",
      "[-0.21068432  0.88666588  0.17820853]\n"
     ]
    }
   ],
   "source": [
    "import numpy as np\n",
    "from scipy.stats import ortho_group\n",
    "U=ortho_group.rvs(3) #orthogonal matrix\n",
    "#print(U)\n",
    "\n",
    "D=np.diag(np.diag(U)) #diagonal matrix\n",
    "print(D)\n",
    "\n",
    "A=np.matmul(np.matmul(U.T,D),U)\n",
    "print(A)\n",
    "\n",
    "b=A[:,0]+A[:,1]+A[:,2]\n",
    "print(b)\n"
   ]
  },
  {
   "cell_type": "code",
   "execution_count": 9,
   "id": "3cc32969",
   "metadata": {},
   "outputs": [
    {
     "name": "stdout",
     "output_type": "stream",
     "text": [
      "(100,)\n"
     ]
    }
   ],
   "source": [
    "import numpy as np\n",
    "from scipy.stats import ortho_group\n",
    "\n",
    "B=np.random.random((100, 100)) #random matrix\n",
    "\n",
    "\n",
    "A=np.matmul(B.T,B) #should be 100*100\n",
    "#print(A)\n",
    "\n",
    "b=A[:,0]+A[:,1]+A[:,2] #should be 100*1\n",
    "#print(b)\n",
    "\n"
   ]
  },
  {
   "cell_type": "code",
   "execution_count": null,
   "id": "6ee7eab6",
   "metadata": {},
   "outputs": [],
   "source": [
    "objective(x):\n",
    "    return np.matmul(np.matmul(x.T,A),x)-np.matmul(b.T,x)\n",
    "    \n",
    "gradient(x):\n",
    "    return 0.5*np.matmul(A.T,x)+0.5*np.matmul(A,x)-b"
   ]
  },
  {
   "cell_type": "code",
   "execution_count": null,
   "id": "35a1736d",
   "metadata": {},
   "outputs": [],
   "source": [
    "#gradient descent algorithm\n",
    "\n",
    "def gradient_descent(\n",
    "    objective, gradient, start, learn_rate=0.2, n_iter=50, tolerance=10e-5\n",
    "):\n",
    "    vector = start\n",
    "    for _ in range(n_iter):\n",
    "        diff = -learn_rate * gradient(vector)\n",
    "        if np.all(np.abs(diff) <= tolerance):\n",
    "            break\n",
    "        vector += diff\n",
    "        print(vector) #value at each iteration\n",
    "    return vector"
   ]
  }
 ],
 "metadata": {
  "kernelspec": {
   "display_name": "Python 3 (ipykernel)",
   "language": "python",
   "name": "python3"
  },
  "language_info": {
   "codemirror_mode": {
    "name": "ipython",
    "version": 3
   },
   "file_extension": ".py",
   "mimetype": "text/x-python",
   "name": "python",
   "nbconvert_exporter": "python",
   "pygments_lexer": "ipython3",
   "version": "3.7.8"
  }
 },
 "nbformat": 4,
 "nbformat_minor": 5
}
